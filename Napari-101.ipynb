{
 "cells": [
  {
   "attachments": {
    "<img src=\"https://pbs.twimg.com/profile_images/1133961932950532096/15M5Fvdy_400x400.png\" width=\"200\" height=\"200\"/>\n",
   },
   "cell_type": "markdown",
   "metadata": {},
   "source": [
    "# Napari: Multi-dimensional Image Viewer in Python\n",
    "\n",
    "The Djavad Mowafaghian Centre for Brain Health is currently part of an Open Science Initiative to establish local support for, and a framework leading to, the transformation of the center to an Open Science Institute modelled after the pioneering example of the McGill Neurological Institute (MNI). Developing and adapting open science principles to suit the unique needs of our Centre necessitates collecting information on attitudes, behaviours and perceived norms, as they pertain to open science, from everyone in our research community - faculty, staff and students. \n",
    "\n",
    "<div>\n",
    "<img src=\"attachment:UBC%20circuits%20cluster%20logo.png\" width=\"200\" height=\"200\"/>\n",
    "</div>\n",
    "\n",
    "Napari is an open-source Python library for visualizing multi-dimensional datasets. This allows for seamless integration with the commonly used scientific Python libraries (scikit-learn, scikit-image, Numpy, etc). The following script goes over the basics of using and interacting with the Napari Viewer and the use of three layer types: image, label, and point. The Napari Viewer is the GUI that allows users to interact and visualize their data. It is recommended to use jupyter notebook as the local host to execute the following script. Please note that you cannot run this script on cloud services (such as syzygy). For other ways of launching the Napari Viewer [see here](https://napari.org/tutorials/fundamentals/viewer.html) .\n",
    "\n",
    "<div>\n",
    "<img src=\"img/napari_logo.png\" width=\"300\" height=\"300\"/>\n",
    "</div>\n"
   ]
  },
  {
   "cell_type": "markdown",
   "metadata": {},
   "source": [
    "Note: Credits for writing this script go to Peter Hogg."
   ]
  },
  {
   "cell_type": "markdown",
   "metadata": {},
   "source": [
    "The following line of code downloads Napari as a python package:\n",
    "\n",
    "For other possible methods of installing napari refer to this page: https://napari.org/tutorials/fundamentals/installation.html"
   ]
  },
  {
   "cell_type": "code",
   "execution_count": null,
   "metadata": {},
   "outputs": [],
   "source": [
    "!pip install pooch"
   ]
  },
  {
   "cell_type": "code",
   "execution_count": null,
   "metadata": {},
   "outputs": [],
   "source": [
    "!conda install --yes -c conda-forge napari "
   ]
  },
  {
   "cell_type": "markdown",
   "metadata": {},
   "source": [
    "Please note that in order to run the analysis in the script, you need to download neuron_timelapse.npy using one of the following commands. Both of the lines of code below work and download the neuron_timelapse.npy file from the OSF project page to the folder you are working in."
   ]
  },
  {
   "cell_type": "code",
   "execution_count": null,
   "metadata": {},
   "outputs": [],
   "source": [
    "!wget -O neuron_timelapse.npy https://osf.io/hy3qk/download"
   ]
  },
  {
   "cell_type": "code",
   "execution_count": null,
   "metadata": {},
   "outputs": [],
   "source": [
    "curl -O https://osf.io/nhe2g/neuron_timelapse.npy"
   ]
  },
  {
   "cell_type": "code",
   "execution_count": null,
   "metadata": {},
   "outputs": [],
   "source": [
    "import matplotlib.cm as cm\n",
    "import matplotlib.colors as colors\n",
    "\n",
    "import napari\n",
    "import numpy as np\n",
    "\n",
    "from skimage.data import cells3d, cat, human_mitosis\n",
    "from skimage.measure import label\n",
    "\n",
    "from scipy.ndimage import center_of_mass\n"
   ]
  },
  {
   "cell_type": "markdown",
   "metadata": {},
   "source": [
    "Napari uses QT to manage its user interface. To use Napari we need to have our Jupyter Notebook \n",
    "launch a QT event loop. That can be launched using this command:"
   ]
  },
  {
   "cell_type": "code",
   "execution_count": null,
   "metadata": {},
   "outputs": [],
   "source": [
    "%gui qt"
   ]
  },
  {
   "cell_type": "markdown",
   "metadata": {},
   "source": [
    "There are alternative backends for Napari for more information see the documentation on the installation page [here](https://napari.org/tutorials/fundamentals/installation.html).\n",
    "The current implentation of Napari requires it to be run locally. Visualization of remote data is currently being discussed by the development team see [here](https://github.com/napari/napari/pull/851) and [here](https://github.com/napari/napari/issues/1875)"
   ]
  },
  {
   "cell_type": "markdown",
   "metadata": {},
   "source": [
    "Next we will load some test data from skimage"
   ]
  },
  {
   "cell_type": "code",
   "execution_count": null,
   "metadata": {},
   "outputs": [],
   "source": [
    "# Load Data from skimage\n",
    "# 3D Volume of labeled nuclei and cell membranes\n",
    "# I've split the cell data into two arrays, one for each channel\n",
    "cell_membrane = cells3d()[:,0,:,:]\n",
    "nuclei = cells3d()[:,1,:,:]\n",
    "\n",
    "# A picture of a Cat\n",
    "cat_photo = cat()\n",
    "\n",
    "# Some cells\n",
    "cells = human_mitosis()"
   ]
  },
  {
   "cell_type": "markdown",
   "metadata": {},
   "source": [
    "We can launch an instance of the Napari Viewer with the function **Viewer()** in the Napari library."
   ]
  },
  {
   "cell_type": "code",
   "execution_count": null,
   "metadata": {},
   "outputs": [],
   "source": [
    "cat_viewer = napari.Viewer()"
   ]
  },
  {
   "cell_type": "markdown",
   "metadata": {},
   "source": [
    "We've now launched an instance of the Napari viewer saved to the variable cat_viewer. We can now interact with the viewer programmatically. Let's add a layer to the viewer. This can be done with the method **add_image**."
   ]
  },
  {
   "cell_type": "code",
   "execution_count": null,
   "metadata": {},
   "outputs": [],
   "source": [
    "# This line of code will add a new layer to our viewer containing the cat photo\n",
    "cat_viewer.add_image(cat_photo)"
   ]
  },
  {
   "cell_type": "markdown",
   "metadata": {},
   "source": [
    "Napari guessed based off of the dimensions of the array that the array was an RGB image. In some cases this behavior is undesirable. In these cases, we can force Napari to treat the image as a multidimensional array and not a RGB image.  "
   ]
  },
  {
   "cell_type": "code",
   "execution_count": null,
   "metadata": {},
   "outputs": [],
   "source": [
    "# Layers are stored in a list inside the Viewer object, they can be removed programmatically using pop. \n",
    "cat_viewer.layers.pop(0)\n",
    "\n",
    "print('The shape of the cat image is:', cat_photo.shape)\n",
    "\n",
    "cat_viewer.add_image(cat_photo, name=\"RGB False\",rgb=False)"
   ]
  },
  {
   "cell_type": "markdown",
   "metadata": {},
   "source": [
    "There are several important parameters for Image Layers\n",
    "- name: string used as the name of the layer\n",
    "- rgb: boolean (True/False)\n",
    "- scale: array-like for relative scale between dimensions\n",
    "- colormap: keyword to select the colormap to use while rendering\n",
    "- blending: keyword for how layers are combined during rendering\n",
    "\n",
    "Let's explore these basic parameters using a multichannel 3D image stack"
   ]
  },
  {
   "cell_type": "code",
   "execution_count": null,
   "metadata": {},
   "outputs": [],
   "source": [
    "cell_viewer_3D = napari.Viewer()\n",
    "\n",
    "# Here we will add two image layers\n",
    "cell_viewer_3D.add_image(cell_membrane)\n",
    "cell_viewer_3D.add_image(nuclei)"
   ]
  },
  {
   "cell_type": "markdown",
   "metadata": {},
   "source": [
    "Let's reopen this viewer with non-default values for a few of these parameters"
   ]
  },
  {
   "cell_type": "code",
   "execution_count": null,
   "metadata": {},
   "outputs": [],
   "source": [
    "cell_viewer_3D = napari.Viewer()\n",
    "\n",
    "cell_viewer_3D.add_image(cell_membrane, name='Membrane', blending='additive', colormap='magenta', gamma=.5)\n",
    "cell_viewer_3D.add_image(nuclei, name='Nuclei', blending='additive', colormap='cyan')"
   ]
  },
  {
   "cell_type": "markdown",
   "metadata": {},
   "source": [
    "The Napari Viewer is designed to handle multiple dimensions.\n",
    "Let's add time into the mix!"
   ]
  },
  {
   "cell_type": "code",
   "execution_count": null,
   "metadata": {},
   "outputs": [],
   "source": [
    "neuron_viewer_4D = napari.Viewer()\n",
    "\n",
    "\n",
    "# Look at the new parameter scale that is being used in the the image layer\n",
    "neuron_viewer_4D.add_image(np.load(\"neuron_timelapse.npy\"), scale=(1, 4,1,1),colormap = 'cyan')"
   ]
  },
  {
   "cell_type": "markdown",
   "metadata": {},
   "source": [
    "Next let's look at two additional layer types labels and points "
   ]
  },
  {
   "cell_type": "code",
   "execution_count": null,
   "metadata": {},
   "outputs": [],
   "source": [
    "# Create a new viewer and load an image of cells\n",
    "cell_viewer = napari.Viewer()\n",
    "cell_viewer.add_image(cells)\n",
    "\n"
   ]
  },
  {
   "cell_type": "markdown",
   "metadata": {},
   "source": [
    "Labels are arrays of integers. Napari will give each non-zero integer a random color. Label arrays can be 2D or 3D. For more information see the label layer documentation [here](https://napari.org/tutorials/fundamentals/labels.html). Let's quickly generate labels for the cells in this image and add these labels to the Napari Viewer."
   ]
  },
  {
   "cell_type": "code",
   "execution_count": null,
   "metadata": {},
   "outputs": [],
   "source": [
    "# Make a copy of the cell image to work with\n",
    "cell_labels = cells.copy()\n",
    "\n",
    "# Quick way of making a binary image\n",
    "cell_labels[cell_labels<=cells.mean()*1.9]= 0\n",
    "cell_labels[cell_labels> 0]= 1\n",
    "\n",
    "# Use a function from skimage to generate labels\n",
    "cell_labels = label(cell_labels)\n",
    "print(np.max(cell_labels))"
   ]
  },
  {
   "cell_type": "markdown",
   "metadata": {},
   "source": [
    "Similarly, to the **add_image** method, the **add_labels** method will create a new layer in the viewer displaying the array provided as an input. "
   ]
  },
  {
   "cell_type": "code",
   "execution_count": null,
   "metadata": {},
   "outputs": [],
   "source": [
    "cell_viewer.add_labels(cell_labels)"
   ]
  },
  {
   "cell_type": "markdown",
   "metadata": {},
   "source": [
    "Another basic layer type is the point layer. Napari will render points if coordinates that match the dimensions of the current layers are provide. As this is a 2D image, we will need to generate an array containing X, Y coordinates. Let’s calculate the center of mass for each label and plot this on top of the image.  For documentation on the center of mass function see this [page](https://docs.scipy.org/doc/scipy/reference/generated/scipy.ndimage.center_of_mass.html)"
   ]
  },
  {
   "cell_type": "code",
   "execution_count": null,
   "metadata": {},
   "outputs": [],
   "source": [
    "\n",
    "CoM_cells = center_of_mass(cells, labels=cell_labels, index= np.unique(cell_labels)[1:])"
   ]
  },
  {
   "cell_type": "markdown",
   "metadata": {},
   "source": [
    "To add these points to the viewer we can use the **add_points** method. This method has several useful paremeters such as:\n",
    "    - face_color: color of the face of the symbol\n",
    "    - edge_color: edge color of the symbol\n",
    "    - size:diameter of the symbol\n",
    "    - symbol: what symbol will be plotted (x, square, circle, etc)\n",
    "   \n",
    " For further information see this [page](https://napari.org/tutorials/fundamentals/points.html)"
   ]
  },
  {
   "cell_type": "code",
   "execution_count": null,
   "metadata": {},
   "outputs": [],
   "source": [
    "cell_viewer.add_points(CoM_cells, size=5, edge_color='red')    "
   ]
  },
  {
   "cell_type": "markdown",
   "metadata": {},
   "source": [
    "The Napari viewer can update the arrays that are currently being displaying. Let's change the labels in the label layers and recalculate  the center of mass of each label."
   ]
  },
  {
   "cell_type": "code",
   "execution_count": null,
   "metadata": {},
   "outputs": [],
   "source": [
    "CoM_cells = center_of_mass(cells, labels=cell_labels, index= np.unique(cell_labels)[1:])\n",
    "cell_viewer.add_points(CoM_cells, name=\"Updated Points\", size=3, edge_color='blue', face_color='blue', symbol='square')  "
   ]
  },
  {
   "cell_type": "code",
   "execution_count": null,
   "metadata": {},
   "outputs": [],
   "source": [
    "def CellInt2Color(image, labels):\n",
    "    ####################################\n",
    "    \"\"\"\n",
    "    Function that takes an image array and label array\n",
    "    and maps mean pixel intensities to a colormap\n",
    "\n",
    "    returns a list of RGBA values\n",
    "    \"\"\"\n",
    "    ####################################\n",
    "    \n",
    "    # Create a linear colormap\n",
    "    \n",
    "    # First find the dimmest and brightest cell\n",
    "    dim = 0\n",
    "    bright = 0\n",
    "    for roi in np.unique(labels)[1:]:\n",
    "        if roi ==1:\n",
    "            dim = np.mean(image[labels==roi])\n",
    "            bright = np.mean(image[labels==roi])\n",
    "        else:\n",
    "            if np.mean(image[labels==roi]) < dim:\n",
    "                dim = np.mean(image[labels==roi])\n",
    "            if np.mean(image[labels==roi]) > bright:\n",
    "                bright = np.mean(image[labels==roi])\n",
    "    \n",
    "    \n",
    "    norm = colors.Normalize(vmin=dim, vmax=bright)\n",
    "    cmap = cm.coolwarm\n",
    "    m = cm.ScalarMappable(norm=norm, cmap=cmap)\n",
    "    \n",
    "    rgb_vals = []\n",
    "    \n",
    "    for roi in np.unique(labels)[1:]:\n",
    "        rgb_vals.append(m.to_rgba(np.mean(image[labels==roi])))\n",
    "    return rgb_vals\n",
    "point_colors = CellInt2Color(cells, cell_labels)\n"
   ]
  },
  {
   "cell_type": "code",
   "execution_count": null,
   "metadata": {},
   "outputs": [],
   "source": [
    "\n",
    "cell_viewer.add_points(CoM_cells, name=\"Cell Mean Intensities\", size=5, face_color=point_colors)  "
   ]
  },
  {
   "cell_type": "code",
   "execution_count": null,
   "metadata": {},
   "outputs": [],
   "source": [
    "# Remember Napari is designed to handle a high number of dimensions\n",
    "# Let's create random points in 4D\n",
    "random_points = []\n",
    "for i in range(50):\n",
    "    random_points.append(np.append(np.random.randint(low=0,  high=10), np.random.randint(low=0,  high=100, size=3)))\n",
    "    \n",
    "# Create a new viewer to plot 4D points\n",
    "fourD_viewer = napari.Viewer()\n",
    "fourD_viewer.add_points(random_points, name=\"Random Stars\", size=5, face_color='yellow', symbol='star' )  "
   ]
  },
  {
   "cell_type": "markdown",
   "metadata": {},
   "source": [
    "BONUS LAYER TYPE: Track layers allow for the tracking of points\n",
    "over dimensions "
   ]
  },
  {
   "cell_type": "code",
   "execution_count": null,
   "metadata": {},
   "outputs": [],
   "source": [
    "def genRandomTrack(points):\n",
    "    ####################################\n",
    "    \"\"\"\n",
    "    Function generates random tracks for a given number\n",
    "    of points\n",
    "    \n",
    "    Returns (50,5) array\n",
    "    \"\"\"\n",
    "    ####################################\n",
    "    tracks = np.empty((0,5))\n",
    "    for j in range(points):\n",
    "        track = np.zeros((50,5))\n",
    "        position = np.random.randint(low=0,  high=100, size=3)\n",
    "        for i in range(50):\n",
    "            track[i, :] = [j, i, position[0],  position[1],  position[2]]  \n",
    "            position += np.random.randint(low=-3,  high=3, size=3)\n",
    "        tracks = np.append(tracks, track, axis=0)\n",
    "    return tracks"
   ]
  },
  {
   "cell_type": "code",
   "execution_count": null,
   "metadata": {},
   "outputs": [],
   "source": [
    "tracks = genRandomTrack(5)\n",
    "\n",
    "# Create a new viewer and load an image of cells\n",
    "tracking_example = napari.Viewer()\n",
    "tracking_example.add_tracks(tracks)"
   ]
  }
 ],
 "metadata": {
  "kernelspec": {
   "display_name": "Python 3 (ipykernel)",
   "language": "python",
   "name": "python3"
  },
  "language_info": {
   "codemirror_mode": {
    "name": "ipython",
    "version": 3
   },
   "file_extension": ".py",
   "mimetype": "text/x-python",
   "name": "python",
   "nbconvert_exporter": "python",
   "pygments_lexer": "ipython3",
   "version": "3.9.10"
  }
 },
 "nbformat": 4,
 "nbformat_minor": 4
}
